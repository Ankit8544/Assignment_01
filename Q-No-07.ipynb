{
 "cells": [
  {
   "cell_type": "code",
   "execution_count": 2,
   "id": "37b2a91f-bab5-4962-835d-30a3257f3c30",
   "metadata": {},
   "outputs": [],
   "source": [
    "#Mutable datatypes are objects that can be modified or altered after they have been created \n",
    "#(for example, by adding new elements, removing elements, or replacing elements).\n",
    "#Mutable datatypes are:-\n",
    "#lists\n",
    "#Dictionaries\n",
    "#Sets"
   ]
  },
  {
   "cell_type": "code",
   "execution_count": 9,
   "id": "6046a9ab-2a3b-4acd-aad5-fe8aeffc8519",
   "metadata": {},
   "outputs": [],
   "source": [
    "a = [21,34.34,'Ankit',3j,True]"
   ]
  },
  {
   "cell_type": "code",
   "execution_count": 10,
   "id": "bfd772dd-1e52-4e86-87a5-54193a292ef7",
   "metadata": {},
   "outputs": [],
   "source": [
    "a[3] = 'Niraj'"
   ]
  },
  {
   "cell_type": "code",
   "execution_count": 11,
   "id": "53a39144-6987-4aa3-b494-98948c8b591d",
   "metadata": {},
   "outputs": [
    {
     "data": {
      "text/plain": [
       "[21, 34.34, 'Ankit', 'Niraj', True]"
      ]
     },
     "execution_count": 11,
     "metadata": {},
     "output_type": "execute_result"
    }
   ],
   "source": [
    "a"
   ]
  },
  {
   "cell_type": "code",
   "execution_count": 12,
   "id": "473480c3-e4b4-4b49-bc8a-e2dd511fe6d5",
   "metadata": {},
   "outputs": [],
   "source": [
    "#Immutable datatypes are objects that cannot be modified or altered after they have been created \n",
    "#(for example, by adding new elements, removing elements, or replacing elements).\n",
    "#Immutable datatypes are:-\n",
    "#Int\n",
    "#Float\n",
    "#Tuple.\n",
    "#Complex\n",
    "#String\n",
    "#Stringfrozen set [note: immutable version of the set]\n",
    "#Bytes"
   ]
  },
  {
   "cell_type": "code",
   "execution_count": 13,
   "id": "b6488bdc-fc2f-4dcb-b366-9d8d56f35a0b",
   "metadata": {},
   "outputs": [],
   "source": [
    "a = 'POP'"
   ]
  },
  {
   "cell_type": "code",
   "execution_count": 14,
   "id": "d8257920-4ea2-4c9d-9b92-99099a4656c2",
   "metadata": {},
   "outputs": [
    {
     "ename": "TypeError",
     "evalue": "'str' object does not support item assignment",
     "output_type": "error",
     "traceback": [
      "\u001b[0;31m---------------------------------------------------------------------------\u001b[0m",
      "\u001b[0;31mTypeError\u001b[0m                                 Traceback (most recent call last)",
      "Cell \u001b[0;32mIn[14], line 1\u001b[0m\n\u001b[0;32m----> 1\u001b[0m \u001b[43ma\u001b[49m\u001b[43m[\u001b[49m\u001b[38;5;241;43m0\u001b[39;49m\u001b[43m]\u001b[49m \u001b[38;5;241m=\u001b[39m \u001b[38;5;124m'\u001b[39m\u001b[38;5;124mT\u001b[39m\u001b[38;5;124m'\u001b[39m\n",
      "\u001b[0;31mTypeError\u001b[0m: 'str' object does not support item assignment"
     ]
    }
   ],
   "source": [
    "a[0] = 'T'"
   ]
  },
  {
   "cell_type": "code",
   "execution_count": null,
   "id": "24bbfab4-cb7a-4949-b72b-291f24df01cb",
   "metadata": {},
   "outputs": [],
   "source": []
  }
 ],
 "metadata": {
  "kernelspec": {
   "display_name": "Python 3 (ipykernel)",
   "language": "python",
   "name": "python3"
  },
  "language_info": {
   "codemirror_mode": {
    "name": "ipython",
    "version": 3
   },
   "file_extension": ".py",
   "mimetype": "text/x-python",
   "name": "python",
   "nbconvert_exporter": "python",
   "pygments_lexer": "ipython3",
   "version": "3.10.8"
  }
 },
 "nbformat": 4,
 "nbformat_minor": 5
}
