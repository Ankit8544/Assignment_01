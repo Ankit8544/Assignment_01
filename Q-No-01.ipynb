{
 "cells": [
  {
   "cell_type": "code",
   "execution_count": 1,
   "id": "34f6ca67-f58a-4c88-aea3-f941262b82bc",
   "metadata": {},
   "outputs": [],
   "source": [
    "#Create one variable containing following type of data:\n",
    "    \n",
    "#String\n",
    "\n",
    "#List\n",
    "\n",
    "#Float\n",
    "\n",
    "#Tuple"
   ]
  },
  {
   "cell_type": "code",
   "execution_count": 4,
   "id": "7913296c-425a-4ffe-ab2c-836c1db27574",
   "metadata": {},
   "outputs": [],
   "source": [
    "i = \"Ankit\""
   ]
  },
  {
   "cell_type": "code",
   "execution_count": 5,
   "id": "7c1a47b8-d59f-4261-93ab-72ef0731aca7",
   "metadata": {},
   "outputs": [
    {
     "data": {
      "text/plain": [
       "str"
      ]
     },
     "execution_count": 5,
     "metadata": {},
     "output_type": "execute_result"
    }
   ],
   "source": [
    "type(i)"
   ]
  },
  {
   "cell_type": "code",
   "execution_count": 6,
   "id": "6a4431b5-a33f-4741-82e2-493c616ea9a3",
   "metadata": {},
   "outputs": [],
   "source": [
    "ii = [21,54,'Niraj',87.54,4+6j,True]"
   ]
  },
  {
   "cell_type": "code",
   "execution_count": 7,
   "id": "e9008018-9208-46ee-b8e0-690797d2d005",
   "metadata": {},
   "outputs": [
    {
     "data": {
      "text/plain": [
       "list"
      ]
     },
     "execution_count": 7,
     "metadata": {},
     "output_type": "execute_result"
    }
   ],
   "source": [
    "type(ii)"
   ]
  },
  {
   "cell_type": "code",
   "execution_count": 8,
   "id": "22e85fea-848a-43d4-adbc-0210462d3794",
   "metadata": {},
   "outputs": [],
   "source": [
    "iii = 78.90"
   ]
  },
  {
   "cell_type": "code",
   "execution_count": 9,
   "id": "77380a34-dca6-4a67-abef-420971eb8d98",
   "metadata": {},
   "outputs": [
    {
     "data": {
      "text/plain": [
       "float"
      ]
     },
     "execution_count": 9,
     "metadata": {},
     "output_type": "execute_result"
    }
   ],
   "source": [
    "type(iii)"
   ]
  },
  {
   "cell_type": "code",
   "execution_count": 10,
   "id": "07b22444-33c1-4f83-9ed3-35dffccbb68d",
   "metadata": {},
   "outputs": [],
   "source": [
    "iv = (12,45,'Ankit',45.78,6+4j,False)"
   ]
  },
  {
   "cell_type": "code",
   "execution_count": 11,
   "id": "9e1bfd7e-4ce9-44d0-8f67-e88a818c2312",
   "metadata": {},
   "outputs": [
    {
     "data": {
      "text/plain": [
       "tuple"
      ]
     },
     "execution_count": 11,
     "metadata": {},
     "output_type": "execute_result"
    }
   ],
   "source": [
    "type(iv)"
   ]
  },
  {
   "cell_type": "code",
   "execution_count": null,
   "id": "fc070a1c-d412-4cf6-a006-c98571a4ad47",
   "metadata": {},
   "outputs": [],
   "source": []
  }
 ],
 "metadata": {
  "kernelspec": {
   "display_name": "Python 3 (ipykernel)",
   "language": "python",
   "name": "python3"
  },
  "language_info": {
   "codemirror_mode": {
    "name": "ipython",
    "version": 3
   },
   "file_extension": ".py",
   "mimetype": "text/x-python",
   "name": "python",
   "nbconvert_exporter": "python",
   "pygments_lexer": "ipython3",
   "version": "3.10.8"
  }
 },
 "nbformat": 4,
 "nbformat_minor": 5
}
