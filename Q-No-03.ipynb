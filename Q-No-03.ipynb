{
 "cells": [
  {
   "cell_type": "code",
   "execution_count": 1,
   "id": "69483dc6-e6d3-48b7-a850-6c32c245e9c1",
   "metadata": {},
   "outputs": [],
   "source": [
    "#Explain the use of the following operators using an example:\n",
    "        \n",
    "#/\n",
    "\n",
    "#% \n",
    "\n",
    "#//\n",
    "\n",
    "#**"
   ]
  },
  {
   "cell_type": "code",
   "execution_count": 2,
   "id": "721c7701-8041-429a-ad9c-db6305522cde",
   "metadata": {},
   "outputs": [],
   "source": [
    "#        / Division "
   ]
  },
  {
   "cell_type": "code",
   "execution_count": 6,
   "id": "ca4a3aab-a69a-463a-9e92-a00b0873f22b",
   "metadata": {},
   "outputs": [
    {
     "name": "stdout",
     "output_type": "stream",
     "text": [
      "8.0\n"
     ]
    }
   ],
   "source": [
    "x = 16\n",
    "y = 2\n",
    "\n",
    "print(x/y)"
   ]
  },
  {
   "cell_type": "code",
   "execution_count": 4,
   "id": "55172b43-dd19-416e-89a0-fdb889398472",
   "metadata": {},
   "outputs": [],
   "source": [
    "#        % Modulus"
   ]
  },
  {
   "cell_type": "code",
   "execution_count": 7,
   "id": "fcee0063-c963-445e-ac2d-b39943101f98",
   "metadata": {},
   "outputs": [
    {
     "name": "stdout",
     "output_type": "stream",
     "text": [
      "1\n"
     ]
    }
   ],
   "source": [
    "x = 7\n",
    "y = 3\n",
    "\n",
    "print(x%y)"
   ]
  },
  {
   "cell_type": "code",
   "execution_count": 8,
   "id": "2f269c78-cd41-4675-9f25-0ddebf05a8de",
   "metadata": {},
   "outputs": [],
   "source": [
    "#        // Floor Division"
   ]
  },
  {
   "cell_type": "code",
   "execution_count": 9,
   "id": "328eeee1-30ae-4c19-ab81-0eb7a2499862",
   "metadata": {},
   "outputs": [
    {
     "name": "stdout",
     "output_type": "stream",
     "text": [
      "13\n"
     ]
    }
   ],
   "source": [
    "x = 27\n",
    "y = 2 \n",
    "\n",
    "#the floor division // rounds the result down to the nearest whole number\n",
    "\n",
    "print(x//y)"
   ]
  },
  {
   "cell_type": "code",
   "execution_count": 10,
   "id": "1185a914-2be1-4234-9942-6ed16e71bcd0",
   "metadata": {},
   "outputs": [
    {
     "name": "stdout",
     "output_type": "stream",
     "text": [
      "64\n"
     ]
    }
   ],
   "source": [
    "x = 4\n",
    "y = 3\n",
    "\n",
    "#same as 4*4*4\n",
    "\n",
    "print(x**y)"
   ]
  },
  {
   "cell_type": "code",
   "execution_count": null,
   "id": "3e1369cf-3eda-429a-9be1-460c529738df",
   "metadata": {},
   "outputs": [],
   "source": []
  }
 ],
 "metadata": {
  "kernelspec": {
   "display_name": "Python 3 (ipykernel)",
   "language": "python",
   "name": "python3"
  },
  "language_info": {
   "codemirror_mode": {
    "name": "ipython",
    "version": 3
   },
   "file_extension": ".py",
   "mimetype": "text/x-python",
   "name": "python",
   "nbconvert_exporter": "python",
   "pygments_lexer": "ipython3",
   "version": "3.10.8"
  }
 },
 "nbformat": 4,
 "nbformat_minor": 5
}
