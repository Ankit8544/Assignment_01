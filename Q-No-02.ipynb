{
 "cells": [
  {
   "cell_type": "code",
   "execution_count": 1,
   "id": "5a5cd660-8bd7-492e-b3f5-dbf078336002",
   "metadata": {},
   "outputs": [],
   "source": [
    "#Given are some following variables containing data:\n",
    "\n",
    "#var1 = ‘ ‘\n",
    "\n",
    "#var2 = ‘[ DS , ML , Python]’\n",
    "\n",
    "#var3 = [ ‘DS’ , ’ML’ , ‘Python’ ]\n",
    "\n",
    "#var4 = 1.0\n",
    "\n",
    "\n",
    "#What will be the data type of the above given variable"
   ]
  },
  {
   "cell_type": "code",
   "execution_count": 2,
   "id": "7e7f7b40-03c7-4920-a043-69d351fa8060",
   "metadata": {},
   "outputs": [],
   "source": [
    "var1 = 'PW Skills'"
   ]
  },
  {
   "cell_type": "code",
   "execution_count": 3,
   "id": "e655ae44-d663-420f-a7b0-83ae1f737bcf",
   "metadata": {},
   "outputs": [
    {
     "data": {
      "text/plain": [
       "str"
      ]
     },
     "execution_count": 3,
     "metadata": {},
     "output_type": "execute_result"
    }
   ],
   "source": [
    "type(var1)"
   ]
  },
  {
   "cell_type": "code",
   "execution_count": 4,
   "id": "b0694dea-b987-4b21-b6c7-a646f2206142",
   "metadata": {},
   "outputs": [],
   "source": [
    "var2 = '[ DS , ML , Python]'"
   ]
  },
  {
   "cell_type": "code",
   "execution_count": 5,
   "id": "0653f7a0-2b5c-4de2-9749-a404a96560c8",
   "metadata": {},
   "outputs": [
    {
     "data": {
      "text/plain": [
       "str"
      ]
     },
     "execution_count": 5,
     "metadata": {},
     "output_type": "execute_result"
    }
   ],
   "source": [
    "type(var2)"
   ]
  },
  {
   "cell_type": "code",
   "execution_count": 6,
   "id": "548d0743-ed53-46a6-a73a-04d45e547387",
   "metadata": {},
   "outputs": [],
   "source": [
    "var3 = ['DS','ML','Python']"
   ]
  },
  {
   "cell_type": "code",
   "execution_count": 7,
   "id": "78eb842c-82f9-4240-b9d3-121a9f79c7c4",
   "metadata": {},
   "outputs": [
    {
     "data": {
      "text/plain": [
       "list"
      ]
     },
     "execution_count": 7,
     "metadata": {},
     "output_type": "execute_result"
    }
   ],
   "source": [
    "type(var3)"
   ]
  },
  {
   "cell_type": "code",
   "execution_count": 8,
   "id": "5afa73f3-1083-4ebb-bbf2-86fcd82bf2f9",
   "metadata": {},
   "outputs": [],
   "source": [
    "var4 = 1."
   ]
  },
  {
   "cell_type": "code",
   "execution_count": 9,
   "id": "175fd237-e8ec-42ec-adb6-26545a2e4d50",
   "metadata": {},
   "outputs": [
    {
     "data": {
      "text/plain": [
       "float"
      ]
     },
     "execution_count": 9,
     "metadata": {},
     "output_type": "execute_result"
    }
   ],
   "source": [
    "type(var4)"
   ]
  },
  {
   "cell_type": "code",
   "execution_count": null,
   "id": "97b860a0-bca5-4faf-a8e4-583f103a39dd",
   "metadata": {},
   "outputs": [],
   "source": []
  }
 ],
 "metadata": {
  "kernelspec": {
   "display_name": "Python 3 (ipykernel)",
   "language": "python",
   "name": "python3"
  },
  "language_info": {
   "codemirror_mode": {
    "name": "ipython",
    "version": 3
   },
   "file_extension": ".py",
   "mimetype": "text/x-python",
   "name": "python",
   "nbconvert_exporter": "python",
   "pygments_lexer": "ipython3",
   "version": "3.10.8"
  }
 },
 "nbformat": 4,
 "nbformat_minor": 5
}
